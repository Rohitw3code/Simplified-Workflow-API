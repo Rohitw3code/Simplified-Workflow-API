{
 "cells": [
  {
   "cell_type": "code",
   "execution_count": 1,
   "id": "51a2e945",
   "metadata": {},
   "outputs": [],
   "source": [
    "import pandas as pd"
   ]
  },
  {
   "cell_type": "code",
   "execution_count": 2,
   "id": "dbc3397d",
   "metadata": {},
   "outputs": [],
   "source": [
    "df = pd.read_csv(\"dataset.csv\")"
   ]
  },
  {
   "cell_type": "code",
   "execution_count": 3,
   "id": "f004df35",
   "metadata": {},
   "outputs": [],
   "source": [
    "cols = ['Sex','Age','Cabin']"
   ]
  },
  {
   "cell_type": "code",
   "execution_count": 4,
   "id": "6e00ef77",
   "metadata": {},
   "outputs": [
    {
     "data": {
      "text/plain": [
       "0                              Braund, Mr. Owen Harris\n",
       "1    Cumings, Mrs. John Bradley (Florence Briggs Th...\n",
       "2                               Heikkinen, Miss. Laina\n",
       "3         Futrelle, Mrs. Jacques Heath (Lily May Peel)\n",
       "4                             Allen, Mr. William Henry\n",
       "Name: Name, dtype: object"
      ]
     },
     "execution_count": 4,
     "metadata": {},
     "output_type": "execute_result"
    }
   ],
   "source": [
    "df.head().Name"
   ]
  },
  {
   "cell_type": "code",
   "execution_count": 5,
   "id": "6e534e04",
   "metadata": {},
   "outputs": [
    {
     "data": {
      "text/plain": [
       "{'PassengerId': [1, 2, 3, 4, 5],\n",
       " 'Survived': [0, 1, 1, 1, 0],\n",
       " 'Pclass': [3, 1, 3, 1, 3],\n",
       " 'Name': ['Braund, Mr. Owen Harris',\n",
       "  'Cumings, Mrs. John Bradley (Florence Briggs Thayer)',\n",
       "  'Heikkinen, Miss. Laina',\n",
       "  'Futrelle, Mrs. Jacques Heath (Lily May Peel)',\n",
       "  'Allen, Mr. William Henry'],\n",
       " 'Sex': ['male', 'female', 'female', 'female', 'male'],\n",
       " 'Age': [22.0, 38.0, 26.0, 35.0, 35.0],\n",
       " 'SibSp': [1, 1, 0, 1, 0],\n",
       " 'Parch': [0, 0, 0, 0, 0],\n",
       " 'Ticket': ['A/5 21171', 'PC 17599', 'STON/O2. 3101282', '113803', '373450'],\n",
       " 'Fare': [7.25, 71.2833, 7.925, 53.1, 8.05],\n",
       " 'Cabin': [nan, 'C85', nan, 'C123', nan],\n",
       " 'Embarked': ['S', 'C', 'S', 'S', 'S']}"
      ]
     },
     "execution_count": 5,
     "metadata": {},
     "output_type": "execute_result"
    }
   ],
   "source": [
    "df.head().to_dict(orient='list')"
   ]
  },
  {
   "cell_type": "code",
   "execution_count": 6,
   "id": "86e43b3f",
   "metadata": {},
   "outputs": [
    {
     "data": {
      "text/plain": [
       "{'PassengerId': 891,\n",
       " 'Survived': 2,\n",
       " 'Pclass': 3,\n",
       " 'Name': 891,\n",
       " 'Sex': 2,\n",
       " 'Age': 88,\n",
       " 'SibSp': 7,\n",
       " 'Parch': 7,\n",
       " 'Ticket': 681,\n",
       " 'Fare': 248,\n",
       " 'Cabin': 147,\n",
       " 'Embarked': 3}"
      ]
     },
     "execution_count": 6,
     "metadata": {},
     "output_type": "execute_result"
    }
   ],
   "source": [
    "df.nunique(axis=0).to_dict()"
   ]
  },
  {
   "cell_type": "code",
   "execution_count": 8,
   "id": "b4fa15bd",
   "metadata": {},
   "outputs": [
    {
     "data": {
      "text/plain": [
       "891"
      ]
     },
     "execution_count": 8,
     "metadata": {},
     "output_type": "execute_result"
    }
   ],
   "source": [
    "df.shape[0]"
   ]
  },
  {
   "cell_type": "code",
   "execution_count": 11,
   "id": "db26bb81",
   "metadata": {},
   "outputs": [
    {
     "data": {
      "text/plain": [
       "0       7\n",
       "1      71\n",
       "2       7\n",
       "3      53\n",
       "4       8\n",
       "       ..\n",
       "886    13\n",
       "887    30\n",
       "888    23\n",
       "889    30\n",
       "890     7\n",
       "Name: Fare, Length: 891, dtype: int32"
      ]
     },
     "execution_count": 11,
     "metadata": {},
     "output_type": "execute_result"
    }
   ],
   "source": [
    "df['Fare'].astype(int)"
   ]
  },
  {
   "cell_type": "code",
   "execution_count": null,
   "id": "f279a90b",
   "metadata": {},
   "outputs": [],
   "source": []
  }
 ],
 "metadata": {
  "kernelspec": {
   "display_name": "Python 3 (ipykernel)",
   "language": "python",
   "name": "python3"
  },
  "language_info": {
   "codemirror_mode": {
    "name": "ipython",
    "version": 3
   },
   "file_extension": ".py",
   "mimetype": "text/x-python",
   "name": "python",
   "nbconvert_exporter": "python",
   "pygments_lexer": "ipython3",
   "version": "3.9.13"
  }
 },
 "nbformat": 4,
 "nbformat_minor": 5
}
