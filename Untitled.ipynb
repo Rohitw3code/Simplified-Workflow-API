{
 "cells": [
  {
   "cell_type": "code",
   "execution_count": 1,
   "id": "51a2e945",
   "metadata": {},
   "outputs": [],
   "source": [
    "import pandas as pd"
   ]
  },
  {
   "cell_type": "code",
   "execution_count": 2,
   "id": "dbc3397d",
   "metadata": {},
   "outputs": [],
   "source": [
    "df = pd.read_csv(\"dataset.csv\")"
   ]
  },
  {
   "cell_type": "code",
   "execution_count": 4,
   "id": "f004df35",
   "metadata": {},
   "outputs": [],
   "source": [
    "cols = ['Sex','Age','Cabin']"
   ]
  },
  {
   "cell_type": "code",
   "execution_count": 9,
   "id": "6e00ef77",
   "metadata": {},
   "outputs": [
    {
     "data": {
      "text/plain": [
       "0                              Braund, Mr. Owen Harris\n",
       "1    Cumings, Mrs. John Bradley (Florence Briggs Th...\n",
       "2                               Heikkinen, Miss. Laina\n",
       "3         Futrelle, Mrs. Jacques Heath (Lily May Peel)\n",
       "4                             Allen, Mr. William Henry\n",
       "Name: Name, dtype: object"
      ]
     },
     "execution_count": 9,
     "metadata": {},
     "output_type": "execute_result"
    }
   ],
   "source": [
    "df.head().Name"
   ]
  },
  {
   "cell_type": "code",
   "execution_count": 11,
   "id": "6e534e04",
   "metadata": {},
   "outputs": [
    {
     "data": {
      "text/plain": [
       "{'PassengerId': [1, 2, 3, 4, 5],\n",
       " 'Survived': [0, 1, 1, 1, 0],\n",
       " 'Pclass': [3, 1, 3, 1, 3],\n",
       " 'Name': ['Braund, Mr. Owen Harris',\n",
       "  'Cumings, Mrs. John Bradley (Florence Briggs Thayer)',\n",
       "  'Heikkinen, Miss. Laina',\n",
       "  'Futrelle, Mrs. Jacques Heath (Lily May Peel)',\n",
       "  'Allen, Mr. William Henry'],\n",
       " 'Sex': ['male', 'female', 'female', 'female', 'male'],\n",
       " 'Age': [22.0, 38.0, 26.0, 35.0, 35.0],\n",
       " 'SibSp': [1, 1, 0, 1, 0],\n",
       " 'Parch': [0, 0, 0, 0, 0],\n",
       " 'Ticket': ['A/5 21171', 'PC 17599', 'STON/O2. 3101282', '113803', '373450'],\n",
       " 'Fare': [7.25, 71.2833, 7.925, 53.1, 8.05],\n",
       " 'Cabin': [nan, 'C85', nan, 'C123', nan],\n",
       " 'Embarked': ['S', 'C', 'S', 'S', 'S']}"
      ]
     },
     "execution_count": 11,
     "metadata": {},
     "output_type": "execute_result"
    }
   ],
   "source": [
    "df.head().to_dict(orient='list')"
   ]
  },
  {
   "cell_type": "code",
   "execution_count": null,
   "id": "86e43b3f",
   "metadata": {},
   "outputs": [],
   "source": []
  }
 ],
 "metadata": {
  "kernelspec": {
   "display_name": "Python 3 (ipykernel)",
   "language": "python",
   "name": "python3"
  },
  "language_info": {
   "codemirror_mode": {
    "name": "ipython",
    "version": 3
   },
   "file_extension": ".py",
   "mimetype": "text/x-python",
   "name": "python",
   "nbconvert_exporter": "python",
   "pygments_lexer": "ipython3",
   "version": "3.9.13"
  }
 },
 "nbformat": 4,
 "nbformat_minor": 5
}
